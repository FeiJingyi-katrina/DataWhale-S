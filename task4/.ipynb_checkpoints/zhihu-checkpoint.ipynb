{
 "cells": [
  {
   "cell_type": "code",
   "execution_count": 4,
   "metadata": {},
   "outputs": [],
   "source": [
    "import requests\n",
    "import re\n",
    "from http import cookiejar\n",
    "from bs4 import BeautifulSoup\n",
    "from urllib.parse import unquote"
   ]
  },
  {
   "cell_type": "code",
   "execution_count": 3,
   "metadata": {},
   "outputs": [
    {
     "ename": "LoadError",
     "evalue": "'./cookies.txt' does not look like a Set-Cookie3 (LWP) format file",
     "output_type": "error",
     "traceback": [
      "\u001b[1;31m---------------------------------------------------------------------------\u001b[0m",
      "\u001b[1;31mLoadError\u001b[0m                                 Traceback (most recent call last)",
      "\u001b[1;32m<ipython-input-3-1ea335cae6e0>\u001b[0m in \u001b[0;36m<module>\u001b[1;34m\u001b[0m\n\u001b[0;32m      1\u001b[0m \u001b[0mSession\u001b[0m\u001b[1;33m=\u001b[0m\u001b[0mrequests\u001b[0m\u001b[1;33m.\u001b[0m\u001b[0msession\u001b[0m\u001b[1;33m(\u001b[0m\u001b[1;33m)\u001b[0m\u001b[1;33m\u001b[0m\u001b[1;33m\u001b[0m\u001b[0m\n\u001b[0;32m      2\u001b[0m \u001b[0mSession\u001b[0m\u001b[1;33m.\u001b[0m\u001b[0mcookies\u001b[0m \u001b[1;33m=\u001b[0m \u001b[0mcookiejar\u001b[0m\u001b[1;33m.\u001b[0m\u001b[0mLWPCookieJar\u001b[0m\u001b[1;33m(\u001b[0m\u001b[0mfilename\u001b[0m\u001b[1;33m=\u001b[0m\u001b[1;34m'./cookies.txt'\u001b[0m\u001b[1;33m)\u001b[0m\u001b[1;33m\u001b[0m\u001b[1;33m\u001b[0m\u001b[0m\n\u001b[1;32m----> 3\u001b[1;33m \u001b[0mSession\u001b[0m\u001b[1;33m.\u001b[0m\u001b[0mcookies\u001b[0m\u001b[1;33m.\u001b[0m\u001b[0mload\u001b[0m\u001b[1;33m(\u001b[0m\u001b[0mignore_discard\u001b[0m\u001b[1;33m=\u001b[0m\u001b[1;32mTrue\u001b[0m\u001b[1;33m)\u001b[0m\u001b[1;33m\u001b[0m\u001b[1;33m\u001b[0m\u001b[0m\n\u001b[0m\u001b[0;32m      4\u001b[0m Session.headers={\n\u001b[0;32m      5\u001b[0m             \u001b[1;34m'Host'\u001b[0m\u001b[1;33m:\u001b[0m \u001b[1;34m'www.zhihu.com'\u001b[0m\u001b[1;33m,\u001b[0m\u001b[1;33m\u001b[0m\u001b[1;33m\u001b[0m\u001b[0m\n",
      "\u001b[1;32mD:\\Explorer\\anaconda\\lib\\http\\cookiejar.py\u001b[0m in \u001b[0;36mload\u001b[1;34m(self, filename, ignore_discard, ignore_expires)\u001b[0m\n\u001b[0;32m   1792\u001b[0m \u001b[1;33m\u001b[0m\u001b[0m\n\u001b[0;32m   1793\u001b[0m         \u001b[1;32mwith\u001b[0m \u001b[0mopen\u001b[0m\u001b[1;33m(\u001b[0m\u001b[0mfilename\u001b[0m\u001b[1;33m)\u001b[0m \u001b[1;32mas\u001b[0m \u001b[0mf\u001b[0m\u001b[1;33m:\u001b[0m\u001b[1;33m\u001b[0m\u001b[1;33m\u001b[0m\u001b[0m\n\u001b[1;32m-> 1794\u001b[1;33m             \u001b[0mself\u001b[0m\u001b[1;33m.\u001b[0m\u001b[0m_really_load\u001b[0m\u001b[1;33m(\u001b[0m\u001b[0mf\u001b[0m\u001b[1;33m,\u001b[0m \u001b[0mfilename\u001b[0m\u001b[1;33m,\u001b[0m \u001b[0mignore_discard\u001b[0m\u001b[1;33m,\u001b[0m \u001b[0mignore_expires\u001b[0m\u001b[1;33m)\u001b[0m\u001b[1;33m\u001b[0m\u001b[1;33m\u001b[0m\u001b[0m\n\u001b[0m\u001b[0;32m   1795\u001b[0m \u001b[1;33m\u001b[0m\u001b[0m\n\u001b[0;32m   1796\u001b[0m     def revert(self, filename=None,\n",
      "\u001b[1;32mD:\\Explorer\\anaconda\\lib\\http\\cookiejar.py\u001b[0m in \u001b[0;36m_really_load\u001b[1;34m(self, f, filename, ignore_discard, ignore_expires)\u001b[0m\n\u001b[0;32m   1895\u001b[0m             msg = (\"%r does not look like a Set-Cookie3 (LWP) format \"\n\u001b[0;32m   1896\u001b[0m                    \"file\" % filename)\n\u001b[1;32m-> 1897\u001b[1;33m             \u001b[1;32mraise\u001b[0m \u001b[0mLoadError\u001b[0m\u001b[1;33m(\u001b[0m\u001b[0mmsg\u001b[0m\u001b[1;33m)\u001b[0m\u001b[1;33m\u001b[0m\u001b[1;33m\u001b[0m\u001b[0m\n\u001b[0m\u001b[0;32m   1898\u001b[0m \u001b[1;33m\u001b[0m\u001b[0m\n\u001b[0;32m   1899\u001b[0m         \u001b[0mnow\u001b[0m \u001b[1;33m=\u001b[0m \u001b[0mtime\u001b[0m\u001b[1;33m.\u001b[0m\u001b[0mtime\u001b[0m\u001b[1;33m(\u001b[0m\u001b[1;33m)\u001b[0m\u001b[1;33m\u001b[0m\u001b[1;33m\u001b[0m\u001b[0m\n",
      "\u001b[1;31mLoadError\u001b[0m: './cookies.txt' does not look like a Set-Cookie3 (LWP) format file"
     ]
    }
   ],
   "source": [
    "Session=requests.session()\n",
    "Session.cookies = cookiejar.LWPCookieJar(filename='./cookies.txt')\n",
    "Session.cookies.load(ignore_discard=True)\n",
    "Session.headers={\n",
    "            'Host': 'www.zhihu.com',\n",
    "            'User-Agent': 'Mozilla/5.0'\n",
    "        }\n",
    "r=Session.get(\"https://www.zhihu.com/search?q=Datawhale&utm_content=search_history&type=content\")\n",
    "r.encoding=\"utf-8\"\n",
    "compiler=re.compile('\"next\":\"(https:\\\\\\\\u002F\\\\\\\\u002Fapi.zhihu.com\\\\\\\\u002Fsearch_v3.*?)\"')\n",
    "r.text"
   ]
  },
  {
   "cell_type": "code",
   "execution_count": null,
   "metadata": {},
   "outputs": [],
   "source": [
    "bsObj=BeautifulSoup(r.text,\"lxml\")\n",
    "url=compiler.findall(r.text)[0]\n",
    "url=unquote(url,encoding=\"utf-8\", errors='replace')\n",
    "url=url.replace(\"\\\\u002F\",\"/\")\n",
    "search_hash_id=re.search(\"search_hash_id=(.*?)&show_all_topics\",url).group(1)\n",
    "search_hash_id\n",
    "offset=20\n",
    "lc_idx=21\n",
    "for i in range(5):\n",
    "    r=Session.get(\"https://www.zhihu.com/api/v4/search_v3?t=general&q=Datawhale&correction=1&offset={offset}&limit=20&lc_idx={lc_idx}&show_all_topics=0&search_hash_id={search_hash_id}&vertical_info=0%2C0%2C1%2C0%2C0%2C0%2C0%2C0%2C0%2C0\".format(**{\"offset\":offset+i*20,\"lc_idx\":lc_idx+i*20,\"search_hash_id\":search_hash_id}))\n",
    "    r.encoding=\"utf-8\"\n",
    "    print(r.json())\n",
    "    print(\"\\n\"*20)"
   ]
  },
  {
   "cell_type": "code",
   "execution_count": null,
   "metadata": {},
   "outputs": [],
   "source": []
  }
 ],
 "metadata": {
  "kernelspec": {
   "display_name": "Python 3",
   "language": "python",
   "name": "python3"
  },
  "language_info": {
   "codemirror_mode": {
    "name": "ipython",
    "version": 3
   },
   "file_extension": ".py",
   "mimetype": "text/x-python",
   "name": "python",
   "nbconvert_exporter": "python",
   "pygments_lexer": "ipython3",
   "version": "3.7.4"
  }
 },
 "nbformat": 4,
 "nbformat_minor": 2
}
