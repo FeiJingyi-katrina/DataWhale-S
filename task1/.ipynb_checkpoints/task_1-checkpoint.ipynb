{
 "cells": [
  {
   "cell_type": "code",
   "execution_count": 4,
   "metadata": {},
   "outputs": [],
   "source": [
    "import requests\n",
    "import os"
   ]
  },
  {
   "cell_type": "code",
   "execution_count": 5,
   "metadata": {},
   "outputs": [
    {
     "data": {
      "text/plain": [
       "200"
      ]
     },
     "execution_count": 5,
     "metadata": {},
     "output_type": "execute_result"
    }
   ],
   "source": [
    "url = \"https://www.python.org/dev/peps/pep-0020/\"\n",
    "r = requests.get(url)\n",
    "r.status_code"
   ]
  },
  {
   "cell_type": "code",
   "execution_count": 6,
   "metadata": {},
   "outputs": [
    {
     "data": {
      "text/plain": [
       "'<!doctype html>\\n<!--[if lt IE 7]>   <html class=\"no-js ie6 lt-ie7 lt-ie8 lt-ie9\">   <![endif]-->\\n<!--[if IE 7]>      <html class=\"no-js ie7 lt-ie8 lt-ie9\">          <![endif]-->\\n<!--[if IE 8]>      <html class=\"no-js ie8 lt-ie9\">                 <![endif]-->\\n<!--[if gt IE 8]><!--><html class=\"no-js\" lang=\"en\" dir=\"ltr\">  <!--<![endif]-->\\n\\n<head>\\n    <meta charset=\"utf-8\">\\n    <meta http-equiv=\"X-UA-Compatible\" content=\"IE=edge\">\\n\\n    <link rel=\"prefetch\" href=\"//ajax.googleapis.com/ajax/libs/jquery/1.8.2/jquery.min.js\">\\n\\n    <meta name=\"application-name\" content=\"Python.org\">\\n    <meta name=\"msapplication-tooltip\" content=\"The official home of the Python Programming Language\">\\n    <meta name=\"apple-mobile-web-app-title\" content=\"Python.org\">\\n    <meta name=\"apple-mobile-web-app-capable\" content=\"yes\">\\n    <meta name=\"apple-mobile-web-app-status-bar-style\" content=\"black\">\\n\\n    <meta name=\"viewport\" content=\"width=device-width, initial-scale=1.0\">\\n    <meta name=\"HandheldFriendly\" conte'"
      ]
     },
     "execution_count": 6,
     "metadata": {},
     "output_type": "execute_result"
    }
   ],
   "source": [
    "r.encoding = r.apparent_encoding\n",
    "r.text[:1000]"
   ]
  },
  {
   "cell_type": "code",
   "execution_count": 16,
   "metadata": {},
   "outputs": [],
   "source": [
    "text = r.text"
   ]
  },
  {
   "cell_type": "code",
   "execution_count": 21,
   "metadata": {},
   "outputs": [
    {
     "name": "stdout",
     "output_type": "stream",
     "text": [
      "Beautiful is better than ugly.\n",
      "Explicit is better than implicit.\n",
      "Simple is better than complex.\n",
      "Complex is better than complicated.\n",
      "Flat is better than nested.\n",
      "Sparse is better than dense.\n",
      "Readability counts.\n",
      "Special cases aren't special enough to break the rules.\n",
      "Although practicality beats purity.\n",
      "Errors should never pass silently.\n",
      "Unless explicitly silenced.\n",
      "In the face of ambiguity, refuse the temptation to guess.\n",
      "There should be one-- and preferably only one --obvious way to do it.\n",
      "Although that way may not be obvious at first unless you're Dutch.\n",
      "Now is better than never.\n",
      "Although never is often better than *right* now.\n",
      "If the implementation is hard to explain, it's a bad idea.\n",
      "If the implementation is easy to explain, it may be a good idea.\n",
      "Namespaces are one honking great idea -- let's do more of those!\n"
     ]
    }
   ],
   "source": [
    "with open('python.txt', 'w') as f:\n",
    "    f.write(text[text.find('<pre') + 28:text.find('</pre>')-1])\n",
    "    #f.close()\n",
    "print(text[text.find('<pre')+28:text.find('</pre>')-1])"
   ]
  },
  {
   "cell_type": "code",
   "execution_count": 22,
   "metadata": {},
   "outputs": [],
   "source": [
    "import urllib"
   ]
  },
  {
   "cell_type": "code",
   "execution_count": 26,
   "metadata": {},
   "outputs": [
    {
     "name": "stdout",
     "output_type": "stream",
     "text": [
      "Beautiful is better than ugly.\n",
      "Explicit is better than implicit.\n",
      "Simple is better than complex.\n",
      "Complex is better than complicated.\n",
      "Flat is better than nested.\n",
      "Sparse is better than dense.\n",
      "Readability counts.\n",
      "Special cases aren't special enough to break the rules.\n",
      "Although practicality beats purity.\n",
      "Errors should never pass silently.\n",
      "Unless explicitly silenced.\n",
      "In the face of ambiguity, refuse the temptation to guess.\n",
      "There should be one-- and preferably only one --obvious way to do it.\n",
      "Although that way may not be obvious at first unless you're Dutch.\n",
      "Now is better than never.\n",
      "Although never is often better than *right* now.\n",
      "If the implementation is hard to explain, it's a bad idea.\n",
      "If the implementation is easy to explain, it may be a good idea.\n",
      "Namespaces are one honking great idea -- let's do more of those!\n"
     ]
    }
   ],
   "source": [
    "url = \"https://www.python.org/dev/peps/pep-0020/\"\n",
    "res = urllib.request.urlopen(url).read().decode('utf-8')\n",
    "print(res[res.find('<pre') + 28:res.find('</pre>')-1])"
   ]
  },
  {
   "cell_type": "code",
   "execution_count": 29,
   "metadata": {},
   "outputs": [
    {
     "name": "stdout",
     "output_type": "stream",
     "text": [
      " 美丽胜过丑陋。\n",
      " 外显优于内隐..\n",
      " 简单胜于复杂。\n",
      " 复杂胜于复杂。\n",
      " 平比嵌套好..\n",
      " 疏而不密..\n",
      "可读性计数。\n",
      " 特殊情况不足以打破规则。\n",
      " 尽管实用性胜过纯度。\n",
      " 错误永远不应该悄悄地过去。\n",
      " 除非有明确的沉默。\n",
      " 面对暧昧，拒绝猜测的诱惑..\n",
      " 应该有一种----最好只有一种----明显的办法来做到这一点。\n",
      " 虽然这种方式一开始可能不明显，除非你是荷兰人。\n",
      " 现在总比永远好。\n",
      " 虽然从来没有比现在更好。\n",
      " 如果实施很难解释，那是个坏主意。\n",
      " 如果实现很容易解释，这可能是个好主意。\n",
      " 命名空间是一个伟大的想法-让我们做更多的这些！\n"
     ]
    }
   ],
   "source": [
    "def translate(word):\n",
    "    url=\"http://fy.iciba.com/ajax.php?a=fy\"\n",
    "\n",
    "    data={\n",
    "        'f': 'auto',\n",
    "        't': 'auto',\n",
    "        'w': word,\n",
    "    }\n",
    "    \n",
    "    headers={\n",
    "        'user-agent': 'Mozilla/5.0 (Windows NT 10.0; Win64; x64) AppleWebKit/537.36 (KHTML, like Gecko) Chrome/74.0.3729.169 Safari/537.36',\n",
    "    }\n",
    "    response = requests.post(url,data=data,headers=headers)    \n",
    "    json_data=response.json()  \n",
    "    #print(json_data)\n",
    "    return json_data\n",
    "    \n",
    "def run(word):    \n",
    "    result = translate(word)['content']['out']   \n",
    "    print(result)\n",
    "    return result\n",
    "\n",
    "def main():\n",
    "    with open('python.txt') as f:\n",
    "        zh = [run(word) for word in f]\n",
    "\n",
    "    with open('python_CN.txt', 'w') as g:\n",
    "        for i in zh:\n",
    "            g.write(i + '\\n')\n",
    "            \n",
    "if __name__ == '__main__':\n",
    "    main()"
   ]
  },
  {
   "cell_type": "code",
   "execution_count": 31,
   "metadata": {},
   "outputs": [
    {
     "name": "stdout",
     "output_type": "stream",
     "text": [
      "success\n"
     ]
    }
   ],
   "source": [
    "url = \"https://img9.doubanio.com/view/photo/s_ratio_poster/public/p1363250216.jpg\"\n",
    "root = \"D://code//task1//figure//\"\n",
    "path = root + url.split(\"/\")[-1]\n",
    "try:\n",
    "    if not os.path.exists(root):\n",
    "        os.mkdir(root)\n",
    "    if not os.path.exists(path):\n",
    "        r = requests.get(url)\n",
    "        with open(path, 'wb') as f:\n",
    "            f.write(r.content)\n",
    "            f.close()\n",
    "            print(\"success\")\n",
    "    else:\n",
    "        print(\"dir already\")\n",
    "except:\n",
    "    print(\"error\")"
   ]
  },
  {
   "cell_type": "code",
   "execution_count": 40,
   "metadata": {},
   "outputs": [
    {
     "name": "stdout",
     "output_type": "stream",
     "text": [
      "url: http://api.map.baidu.com/geocoding/v3/?address=燕京理工大学&output=json&ak=0aqBd3fmGildcjPLx1LkWlyYt4BKg7Gh\n",
      "燕京理工大学|经度:116.26093999445213|纬度:39.90140206265253.\n",
      "url: http://api.map.baidu.com/geocoding/v3/?address=浙江大学&output=json&ak=0aqBd3fmGildcjPLx1LkWlyYt4BKg7Gh\n",
      "浙江大学|经度:120.09727602402343|纬度:30.31005403236049.\n",
      "url: http://api.map.baidu.com/geocoding/v3/?address=浙江理工大学&output=json&ak=0aqBd3fmGildcjPLx1LkWlyYt4BKg7Gh\n",
      "浙江理工大学|经度:120.3596312685539|纬度:30.31952048568882.\n",
      "url: http://api.map.baidu.com/geocoding/v3/?address=上海市复旦大学&output=json&ak=0aqBd3fmGildcjPLx1LkWlyYt4BKg7Gh\n",
      "上海市复旦大学|经度:121.74295536914276|纬度:31.06665792321301.\n",
      "url: http://api.map.baidu.com/geocoding/v3/?address=武汉市武汉大学&output=json&ak=0aqBd3fmGildcjPLx1LkWlyYt4BKg7Gh\n",
      "武汉市武汉大学|经度:114.37292090919235|纬度:30.543803317143624.\n"
     ]
    }
   ],
   "source": [
    "def getUrl(*address):\n",
    "    ak = '0aqBd3fmGildcjPLx1LkWlyYt4BKg7Gh'  \n",
    "    if len(address) < 1:\n",
    "        return None\n",
    "    else:\n",
    "        for add in address:   \n",
    "            url = 'http://api.map.baidu.com/geocoding/v3/?address={0}&output=json&ak={1}'.format(add,ak)  \n",
    "            yield url\n",
    "            \n",
    "\n",
    "def getPosition(url):\n",
    "    '''返回经纬度信息'''\n",
    "    res = requests.get(url)\n",
    "    #print(res.text)\n",
    "    json_data = eval(res.text)\n",
    "    \n",
    "    if json_data['status'] == 0:\n",
    "        lat = json_data['result']['location']['lat'] \n",
    "        lng = json_data['result']['location']['lng'] \n",
    "    else:\n",
    "        print(\"Error output!\")\n",
    "        return json_data['status']\n",
    "    return lat,lng\n",
    "\n",
    "if __name__ == \"__main__\":\n",
    "    address = ['燕京理工大学','浙江大学','浙江理工大学','上海市复旦大学','武汉市武汉大学']\n",
    "    for add in address:\n",
    "        add_url = list(getUrl(add))[0]\n",
    "        print('url:', add_url)\n",
    "        try:\n",
    "            lat,lng = getPosition(add_url)\n",
    "            print(\"{0}|经度:{1}|纬度:{2}.\".format(add,lng,lat))\n",
    "        except Error as e:\n",
    "            print(e)"
   ]
  },
  {
   "cell_type": "code",
   "execution_count": 41,
   "metadata": {},
   "outputs": [],
   "source": [
    "import requests"
   ]
  },
  {
   "cell_type": "code",
   "execution_count": 42,
   "metadata": {},
   "outputs": [],
   "source": [
    "url = 'https://movie.douban.com/chart'\n",
    "kv = {'user-agrent' : 'Mozilla/5.0'}\n",
    "r = requests.get(url, headers = kv)"
   ]
  },
  {
   "cell_type": "code",
   "execution_count": 43,
   "metadata": {},
   "outputs": [
    {
     "data": {
      "text/plain": [
       "{'User-Agent': 'python-requests/2.22.0', 'Accept-Encoding': 'gzip, deflate', 'Accept': '*/*', 'Connection': 'keep-alive', 'user-agrent': 'Mozilla/5.0'}"
      ]
     },
     "execution_count": 43,
     "metadata": {},
     "output_type": "execute_result"
    }
   ],
   "source": [
    "r.request.headers"
   ]
  },
  {
   "cell_type": "code",
   "execution_count": 44,
   "metadata": {},
   "outputs": [
    {
     "data": {
      "text/plain": [
       "{'User-Agent': 'Mozilla/5.0', 'Accept-Encoding': 'gzip, deflate', 'Accept': '*/*', 'Connection': 'keep-alive'}"
      ]
     },
     "execution_count": 44,
     "metadata": {},
     "output_type": "execute_result"
    }
   ],
   "source": [
    "kv = {'User-Agent' : 'Mozilla/5.0'}\n",
    "r = requests.get(url, headers = kv)\n",
    "r.request.headers"
   ]
  },
  {
   "cell_type": "code",
   "execution_count": 45,
   "metadata": {},
   "outputs": [
    {
     "data": {
      "text/plain": [
       "200"
      ]
     },
     "execution_count": 45,
     "metadata": {},
     "output_type": "execute_result"
    }
   ],
   "source": [
    "r.status_code"
   ]
  },
  {
   "cell_type": "code",
   "execution_count": 46,
   "metadata": {},
   "outputs": [],
   "source": [
    "r.encoding = r.apparent_encoding"
   ]
  },
  {
   "cell_type": "code",
   "execution_count": 50,
   "metadata": {},
   "outputs": [
    {
     "data": {
      "text/plain": [
       "'<!DOCTYPE html>\\n<html lang=\"zh-CN\" class=\"\">\\n<head>\\n    <meta http-equiv=\"Content-Type\" content=\"text/html; charset=utf-8\">\\n    <meta name=\"renderer\" content=\"webkit\">\\n    <meta name=\"referrer\" content=\"always\">\\n    <meta name=\"google-site-verification\" content=\"ok0wCgT20tBBgo9_zat2iAcimtN4Ftf5ccsh092Xeyw\" />\\n    <title>\\n豆瓣电影排行榜\\n</title>\\n    \\n    <meta name=\"baidu-site-verification\" content=\"cZdR4xxR7RxmM4zE\" />\\n    <meta http-equiv=\"Pragma\" content=\"no-cache\">\\n    <meta http-equiv=\"Expires\" content=\"Sun, 6 Mar 2005 01:00:00 GMT\">\\n    \\n    <meta name=\"keywords\" content=\"电影排行榜、新片排行榜、豆瓣电影250\"/>\\n    <meta name=\"description\" content=\"豆瓣电影排行榜,提供最新电影排行榜、本周电影口碑榜和豆瓣电影TOP250\" />\\n\\n    <link rel=\"apple-touch-icon\" href=\"https://img3.doubanio.com/f/movie/d59b2715fdea4968a450ee5f6c95c7d7a2030065/pics/movie/apple-touch-icon.png\">\\n    <link href=\"https://img3.doubanio.com/f/shire/3e5dfc68b0f376484c50cf08a58bbca3700911dc/css/douban.css\" rel=\"stylesheet\" type=\"text/css\">\\n    <link href=\"https://img3.doubanio.com/f/shire/ae3f5a3e3085968370b1fc63afcecb22d3284848/css/separation/_all.css\" rel=\"stylesheet\" type=\"text/css\">\\n    <link href=\"https://img3.doubanio.com/f/movie/8864d3756094f5272d3c93e30ee2e324665855b0/css/movie/base/init.css\" rel=\"stylesheet\">\\n    <script type=\"text/javascript\">var _head_start = new Date();</script>\\n    <script type=\"text/javascript\" src=\"https://img3.doubanio.com/f/movie/0495cb173e298c28593766009c7b0a953246c5b5/js/movie/lib/jquery.js\"></script>\\n    <script type=\"text/javascript\" src=\"https://img3.doubanio.com/f/shire/5ecaf46d6954d5a30bc7d99be86ae34031646e00/js/douban.js\"></script>\\n    <script type=\"text/javascript\" src=\"https://img3.doubanio.com/f/shire/0efdc63b77f895eaf85281fb0e44d435c6239a3f/js/separation/_all.js\"></script>\\n    \\n    <style type=\"text/css\"></style>\\n    <style type=\"text/css\">img { max-width: 100%; }</style>\\n    <script type=\"text/javascript\"></script>\\n    <link rel=\"stylesheet\" href=\"https://img3.doubanio.com/misc/mixed_static/7014746226b5bef9.css\">\\n\\n    <link rel=\"shortcut icon\" href=\"https://img3.doubanio.com/favicon.ico\" type=\"image/x-icon\">\\n</head>\\n\\n<body>\\n  \\n    <script type=\"text/javascript\">var _body_start = new Date();</script>\\n\\n    \\n    \\n\\n\\n\\n    <link href=\"//img3.doubanio.com/dae/accounts/resources/1f8d15e/shire/bundle.css\" rel=\"stylesheet\" type=\"text/css\">\\n\\n\\n\\n<div id=\"db-global-nav\" class=\"global-nav\">\\n  <div class=\"bd\">\\n    \\n<div class=\"top-nav-info\">\\n  <a href=\"https://accounts.douban.com/passport/login?source=movie\" class=\"nav-login\" rel=\"nofollow\">登录/注册</a>\\n</div>\\n\\n\\n    <div class=\"top-nav-doubanapp\">\\n  <a href=\"https://www.douban.com/doubanapp/app?channel=top-nav\" class=\"lnk-doubanapp\">下载豆瓣客户端</a>\\n  <div id=\"doubanapp-tip\">\\n    <a href=\"https://www.douban.com/doubanapp/app?channel=qipao\" class=\"tip-link\">豆瓣 <span class=\"version\">6.0</span> 全新发布</a>\\n    <a href=\"javascript: void 0;\" class=\"tip-close\">×</a>\\n  </div>\\n  <div id=\"top-nav-appintro\" class=\"more-items\">\\n    <p class=\"appintro-title\">豆瓣</p>\\n    <p class=\"qrcode\">扫码直接下载</p>\\n    <div class=\"download\">\\n      <a href=\"https://www.douban.com/doubanapp/redirect?channel=top-nav&direct_dl=1&download=iOS\">iPhone</a>\\n      <span>·</span>\\n      <a href=\"https://www.douban.com/doubanapp/redirect?channel=top-nav&direct_dl=1&download=Android\" class=\"download-android\">Android</a>\\n    </div>\\n  </div>\\n</div>\\n\\n    \\n\\n\\n<div class=\"global-nav-items\">\\n  <ul>\\n    <li class=\"\">\\n      <a href=\"https://www.douban.com\" target=\"_blank\" data-moreurl-dict=\"{&quot;from&quot;:&quot;top-nav-click-main&quot;,&quot;uid&quot;:&quot;0&quot;}\">豆瓣</a>\\n    </li>\\n    <li class=\"\">\\n      <a href=\"https://book.douban.com\" target=\"_blank\" data-moreurl-dict=\"{&quot;from&quot;:&quot;top-nav-click-book&quot;,&quot;uid&quot;:&quot;0&quot;}\">读书</a>\\n    </li>\\n    <li class=\"on\">\\n      <a href=\"https://movie.douban.com\"  data-moreurl-dict=\"{&quot;from&quot;:&quot;top-nav-click-movie&quot;,&quot;uid&quot;:&quot;0&quot;}\">电影</a>\\n    </li>\\n    <li class=\"\">\\n      <a href=\"https://music.douban.com\" target=\"_blank\" data-moreurl-dict=\"{&quot;from&quot;:&quot;top-nav-click-music&quot;,&quot;uid&quot;:&quot;0&quot;}\">音乐</a>\\n    </li>\\n    <li class=\"\">\\n      <a href=\"https://www.douban.com/location\" target=\"_blank\" data-moreurl-dict=\"{&quot;from&quot;:&quot;top-nav-click-location&quot;,&quot;uid&quot;:&quot;0&quot;}\">同城</a>\\n    </li>\\n    <li class=\"\">\\n      <a href=\"https://www.douban.com/group\" target=\"_blank\" data-moreurl-dict=\"{&quot;from&quot;:&quot;top-nav-click-group&quot;,&quot;uid&quot;:&quot;0&quot;}\">小组</a>\\n    </li>\\n    <li class=\"\">\\n      <a href=\"https://read.douban.com&#47;?dcs=top-nav&amp;dcm=douban\" target=\"_blank\" data-moreurl-dict=\"{&quot;from&quot;:&quot;top-nav-click-read&quot;,&quot;uid&quot;:&quot;0&quot;}\">阅读</a>\\n    </li>\\n    <li class=\"\">\\n      <a href=\"https://douban.fm&#47;?from_=shire_top_nav\" target=\"_blank\" data-moreurl-dict=\"{&quot;from&quot;:&quot;top-nav-click-fm&quot;,&quot;uid&quot;:&quot;0&quot;}\">FM</a>\\n    </li>\\n    <li class=\"\">\\n      <a href=\"https://time.douban.com&#47;?dt_time_source=douban-web_top_nav\" target=\"_blank\" data-moreurl-dict=\"{&quot;from&quot;:&quot;top-nav-click-time&quot;,&quot;uid&quot;:&quot;0&quot;}\">时间</a>\\n    </li>\\n    <li class=\"\">\\n      <a href=\"https://market.douban.com&#47;?utm_campaign=douban_top_nav&amp;utm_source=douban&amp;utm_medium=pc_web\" target=\"_blank\" data-moreurl-dict=\"{&quot;from&quot;:&quot;top-nav-click-market&quot;,&quot;uid&quot;:&quot;0&quot;}\">豆品</a>\\n    </li>\\n    <li>\\n      <a href=\"#more\" class=\"bn-more\"><span>更多</span></a>\\n      <div class=\"more-items\">\\n        <table cellpadding=\"0\" cellspacing=\"0\">\\n          <tbody>\\n            <tr>\\n              <td>\\n                <a href=\"https://ypy.douban.com\" target=\"_blank\" data-moreurl-dict=\"{&quot;from&quot;:&quot;top-nav-click-ypy&quot;,&quot;uid&quot;:&quot;0&quot;}\">豆瓣摄影</a>\\n              </td>\\n            </tr>\\n          </tbody>\\n        </table>\\n      </div>\\n    </li>\\n  </ul>\\n</div>\\n\\n  </div>\\n</div>\\n<script>\\n  ;window._GLOBAL_NAV = {\\n    DOUBAN_URL: \"https://www.douban.com\",\\n    N_NEW_NOTIS: 0,\\n    N_NEW_DOUMAIL: 0\\n  };\\n</script>\\n\\n\\n\\n    <script src=\"//img3.doubanio.com/dae/accounts/resources/1f8d15e/shire/bundle.js\" defer=\"defer\"></script>\\n\\n\\n\\n\\n    \\n\\n\\n\\n    <link href=\"//img3.doubanio.com/dae/accounts/resources/1f8d15e/movie/bundle.css\" rel=\"stylesheet\" type=\"text/css\">\\n\\n\\n\\n\\n<div id=\"db-nav-movie\" class=\"nav\">\\n  <div class=\"nav-wrap\">\\n  <div class=\"nav-primary\">\\n    <div class=\"nav-logo\">\\n      <a href=\"https:&#47;&#47;movie.douban.com\">豆瓣电影</a>\\n    </div>\\n    <div class=\"nav-search\">\\n      <form action=\"https:&#47;&#47;search.douban.com&#47;movie/subject_search\" method=\"get\">\\n        <fieldset>\\n          <legend>搜索：</legend>\\n          <label for=\"inp-query\">\\n          </label>\\n          <div class=\"inp\"><input id=\"inp-query\" name=\"search_text\" size=\"22\" maxlength=\"60\" placeholder=\"搜索电影、电视剧、综艺、影人\" value=\"\"></div>\\n          <div class=\"inp-btn\"><input type=\"submit\" value=\"搜索\"></div>\\n          <input type=\"hidden\" name=\"cat\" value=\"1002\" />\\n        </fieldset>\\n      </form>\\n    </div>\\n  </div>\\n  </div>\\n  <div class=\"nav-secondary\">\\n    \\n\\n<div class=\"nav-items\">\\n  <ul>\\n    <li    ><a href=\"https://movie.douban.com/cinema/nowplaying/\"\\n     >影讯&购票</a>\\n    </li>\\n    <li    ><a href=\"https://movie.douban.com/explore\"\\n     >选电影</a>\\n    </li>\\n    <li    ><a href=\"https://movie.douban.com/tv/\"\\n     >电视剧</a>\\n    </li>\\n    <li    ><a href=\"https://movie.douban.com/chart\"\\n     >排行榜</a>\\n    </li>\\n    <li    ><a href=\"https://movie.douban.com/tag/\"\\n     >分类</a>\\n    </li>\\n    <li    ><a href=\"https://movie.douban.com/review/best/\"\\n     >影评</a>\\n    </li>\\n    <li    ><a href=\"https://movie.douban.com/annual/2019?source=navigation\"\\n     >2019年度榜单</a>\\n    </li>\\n    <li    ><a href=\"https://m.douban.com/standbyme/annual2019?source=navigation\"\\n            target=\"_blank\"\\n     >2019书影音报告</a>\\n    </li>\\n  </ul>\\n</div>\\n\\n    <a href=\"https://movie.douban.com/annual/2019?source=movie_navigation\" class=\"movieannual\"></a>\\n  </div>\\n</div>\\n\\n<script id=\"suggResult\" type=\"text/x-jquery-tmpl\">\\n  <li data-link=\"{{= url}}\">\\n            <a href=\"{{= url}}\" onclick=\"moreurl(this, {from:\\'movie_search_sugg\\', query:\\'{{= keyword }}\\', subject_id:\\'{{= id}}\\', i: \\'{{= index}}\\', type: \\'{{= type}}\\'})\">\\n            <img src=\"{{= img}}\" width=\"40\" />\\n            <p>\\n                <em>{{= title}}</em>\\n                {{if year}}\\n                    <span>{{= year}}</span>\\n                {{/if}}\\n                {{if sub_title}}\\n                    <br /><span>{{= sub_title}}</span>\\n                {{/if}}\\n                {{if address}}\\n                    <br /><span>{{= address}}</span>\\n                {{/if}}\\n                {{if episode}}\\n                    {{if episode==\"unknow\"}}\\n                        <br /><span>集数未知</span>\\n                    {{else}}\\n                        <br /><span>共{{= episode}}集</span>\\n                    {{/if}}\\n                {{/if}}\\n            </p>\\n        </a>\\n        </li>\\n  </script>\\n\\n\\n\\n\\n    <script src=\"//img3.doubanio.com/dae/accounts/resources/1f8d15e/movie/bundle.js\" defer=\"defer\"></script>\\n\\n\\n\\n\\n\\n    \\n    <div id=\"wrapper\">\\n        \\n\\n        \\n    <div id=\"content\">\\n        \\n    <h1>豆瓣电影排行榜</h1>\\n\\n        <div class=\"grid-16-8 clearfix\">\\n            \\n            \\n            <div class=\"article\">\\n                \\n    <h2>豆瓣新片榜   · · · · · · </h2>\\n    <div class=\"indent\">\\n        \\n\\n\\n\\n\\n\\n<div class=\"\">\\n    <p class=\"ul first\"></p>\\n    <table width=\"100%\" class=\"\">\\n        <tr class=\"item\">\\n            <td width=\"100\" valign=\"top\">\\n                \\n\\n                    <a class=\"nbg\" href=\"https://movie.douban.com/subject/34805219/\"  title=\"饥饿站台\">\\n                        <img src=\"https://img3.doubanio.com/view/photo/s_ratio_poster/public/p2566870171.jpg\" width=\"75\" alt=\"饥饿站台\" class=\"\"/>\\n                    </a>\\n            </td>\\n\\n            <td valign=\"top\">\\n                \\n\\n                <div class=\"pl2\">\\n\\n                    <a href=\"https://movie.douban.com/subject/34805219/\"  class=\"\">\\n                        饥饿站台\\n                        / <span style=\"font-size:13px;\">饥饿斗室(港) / 绝命大平台(台)</span>\\n                    </a>\\n\\n\\n\\n                    <p class=\"pl\">2019-09-06(多伦多电影节) / 2019-11-08(西班牙) / 伊万·马萨戈 / 佐里昂·伊圭里奥尔 / 安东尼亚·圣胡安 / 埃米利奥·布阿勒 / 亚历山德拉·玛桑凯 / 马里奥·帕尔多 / 阿尔吉斯·阿洛斯卡斯 / 米莉安·马丁 / 西班牙 / elhoyolapelicula.com / 加尔德·加兹特鲁·乌鲁蒂亚...</p>\\n\\n                    \\n\\n\\n                        \\n                        <div class=\"star clearfix\">\\n                                <span class=\"allstar40\"></span>\\n                                <span class=\"rating_nums\">7.8</span>\\n                                <span class=\"pl\">(156446人评价)</span>\\n\\n                        </div>\\n\\n\\n                </div>\\n\\n            </td>\\n        </tr>\\n    </table>\\n    <div id=\"collect_form_34805219\"></div>\\n    <p class=\"ul\"></p>\\n    <table width=\"100%\" class=\"\">\\n        <tr class=\"item\">\\n            <td width=\"100\" valign=\"top\">\\n                \\n\\n                    <a class=\"nbg\" href=\"https://movie.douban.com/subject/30211998/\"  title=\"绅士们\">\\n                        <img src=\"https://img9.doubanio.com/view/photo/s_ratio_poster/public/p2592522995.jpg\" width=\"75\" alt=\"绅士们\" class=\"\"/>\\n                    </a>\\n            </td>\\n\\n            <td valign=\"top\">\\n                \\n\\n                <div class=\"pl2\">\\n\\n                    <a href=\"https://movie.douban.com/subject/30211998/\"  class=\"\">\\n                        绅士们\\n                        / <span style=\"font-size:13px;\">疯狂绅士帮(港) / 绅士追杀令(台)</span>\\n                    </a>\\n\\n\\n\\n                    <p class=\"pl\">2020-01-24(美国) / 马修·麦康纳 / 查理·汉纳姆 / 亨利·戈尔丁 / 米歇尔·道克瑞 / 杰瑞米·斯特朗 / 科林·法瑞尔 / 休·格兰特 / 琳·勒内 / 马克斯·班内特 / 布列塔尼·阿什沃思 / 伊川东吾 / 尤金娜·库日敏娜 / 乔丹·朗 / 杰森·王 / 可可·萨姆纳...</p>\\n\\n                    \\n\\n\\n                        \\n                        <div class=\"star clearfix\">\\n                                <span class=\"allstar40\"></span>\\n                                <span class=\"rating_nums\">8.3</span>\\n                                <span class=\"pl\">(74076人评价)</span>\\n\\n                        </div>\\n\\n\\n                </div>\\n\\n            </td>\\n        </tr>\\n    </table>\\n    <div id=\"collect_form_30211998\"></div>\\n    <p class=\"ul\"></p>\\n    <table width=\"100%\" class=\"\">\\n        <tr class=\"item\">\\n            <td width=\"100\" valign=\"top\">\\n                \\n\\n                    <a class=\"nbg\" href=\"https://movie.douban.com/subject/2364086/\"  title=\"隐形人\">\\n                        <img src=\"https://img9.doubanio.com/view/photo/s_ratio_poster/public/p2582428806.jpg\" width=\"75\" alt=\"隐形人\" class=\"\"/>\\n                    </a>\\n            </td>\\n\\n            <td valign=\"top\">\\n                \\n\\n                <div class=\"pl2\">\\n\\n                    <a href=\"https://movie.douban.com/subject/2364086/\"  class=\"\">\\n                        隐形人\\n                        / <span style=\"font-size:13px;\">隐身人 / 隐形客(港)</span>\\n                    </a>\\n\\n\\n\\n                    <p class=\"pl\">2020-02-28(美国) / 伊丽莎白·莫斯 / 奥利弗·杰森-科恩 / 阿尔迪斯·霍吉 / 迈克尔·多曼 / 斯托姆·瑞德 / 本尼迪克·哈迪 / 哈丽特·戴尔 / 瑞妮·林 / 布莱恩·米根 / 薇薇安·格里尔 / 尼古拉斯·霍普 / 克利夫·威廉姆斯 / 萨姆·史密斯...</p>\\n\\n                    \\n\\n\\n                        \\n                        <div class=\"star clearfix\">\\n                                <span class=\"allstar35\"></span>\\n                                <span class=\"rating_nums\">7.3</span>\\n                                <span class=\"pl\">(100473人评价)</span>\\n\\n                        </div>\\n\\n\\n                </div>\\n\\n            </td>\\n        </tr>\\n    </table>\\n    <div id=\"collect_form_2364086\"></div>\\n    <p class=\"ul\"></p>\\n    <table width=\"100%\" class=\"\">\\n        <tr class=\"item\">\\n            <td width=\"100\" valign=\"top\">\\n                \\n\\n                    <a class=\"nbg\" href=\"https://movie.douban.com/subject/30182726/\"  title=\"狩猎\">\\n                        <img src=\"https://img1.doubanio.com/view/photo/s_ratio_poster/public/p2585533507.jpg\" width=\"75\" alt=\"狩猎\" class=\"\"/>\\n                    </a>\\n            </td>\\n\\n            <td valign=\"top\">\\n                \\n\\n                <div class=\"pl2\">\\n\\n                    <a href=\"https://movie.douban.com/subject/30182726/\"  class=\"\">\\n                        狩猎\\n                        / <span style=\"font-size:13px;\">猎逃生死战(港) / 猎捕</span>\\n                    </a>\\n\\n\\n\\n                    <p class=\"pl\">2020-03-13(美国) / 贝蒂·吉尔平 / 希拉里·斯万克 / 艾玛·罗伯茨 / 贾斯汀·哈特雷 / 伊克·巴里霍尔兹 / 格伦·豪尔顿 / 埃米·马迪根 / 梅肯·布莱尔 / 特瑞·韦伯 / 斯蒂芬·考特尔 / 韦恩·杜瓦尔 / J.C.麦肯泽 / 里德·伯尼 / 汉斯·马雷罗...</p>\\n\\n                    \\n\\n\\n                        \\n                        <div class=\"star clearfix\">\\n                                <span class=\"allstar35\"></span>\\n                                <span class=\"rating_nums\">7.3</span>\\n                                <span class=\"pl\">(64531人评价)</span>\\n\\n                        </div>\\n\\n\\n                </div>\\n\\n            </td>\\n        </tr>\\n    </table>\\n    <div id=\"collect_form_30182726\"></div>\\n    <p class=\"ul\"></p>\\n    <table width=\"100%\" class=\"\">\\n        <tr class=\"item\">\\n            <td width=\"100\" valign=\"top\">\\n                \\n\\n                    <a class=\"nbg\" href=\"https://movie.douban.com/subject/33411505/\"  title=\"从不，很少，有时，总是\">\\n                        <img src=\"https://img3.doubanio.com/view/photo/s_ratio_poster/public/p2588279882.jpg\" width=\"75\" alt=\"从不，很少，有时，总是\" class=\"\"/>\\n                    </a>\\n            </td>\\n\\n            <td valign=\"top\">\\n                \\n\\n                <div class=\"pl2\">\\n\\n                    <a href=\"https://movie.douban.com/subject/33411505/\"  class=\"\">\\n                        从不，很少，有时，总是\\n                        / <span style=\"font-size:13px;\">从不、很少、有时、总是 / 绝不、很少、有时、总是</span>\\n                    </a>\\n\\n\\n\\n                    <p class=\"pl\">2020-01-24(圣丹斯电影节) / 2020-02-25(柏林电影节) / 2020-03-13(美国) / 茜德尼·弗拉尼根 / 塔莉娅·莱德 / 西奥多·佩尔兰 / 瑞安·艾戈尔德 / 莎伦·凡·艾腾 / 德鲁·塞尔策 / 美国 / www.focusfeatures.com/never-rarely-sometimes-always / 伊丽莎·希特曼...</p>\\n\\n                    \\n\\n\\n                        \\n                        <div class=\"star clearfix\">\\n                                <span class=\"allstar40\"></span>\\n                                <span class=\"rating_nums\">7.6</span>\\n                                <span class=\"pl\">(13982人评价)</span>\\n\\n                        </div>\\n\\n\\n                </div>\\n\\n            </td>\\n        </tr>\\n    </table>\\n    <div id=\"collect_form_33411505\"></div>\\n    <p class=\"ul\"></p>\\n    <table width=\"100%\" class=\"\">\\n        <tr class=\"item\">\\n            <td width=\"100\" valign=\"top\">\\n                \\n\\n                    <a class=\"nbg\" href=\"https://movie.douban.com/subject/33417030/\"  title=\"悲惨世界\">\\n                        <img src=\"https://img1.doubanio.com/view/photo/s_ratio_poster/public/p2592521688.jpg\" width=\"75\" alt=\"悲惨世界\" class=\"\"/>\\n                    </a>\\n            </td>\\n\\n            <td valign=\"top\">\\n                \\n\\n                <div class=\"pl2\">\\n\\n                    <a href=\"https://movie.douban.com/subject/33417030/\"  class=\"\">\\n                        悲惨世界\\n                    </a>\\n\\n\\n\\n                    <p class=\"pl\">2019-05-15(戛纳电影节) / 2019-11-20(法国) / 达米安·勃纳尔 / 亚历克西斯·曼蒂 / 贾布里勒·宗加 / 让娜·巴利巴尔 / 亚历山大·皮科特 / 罗曼·加夫拉斯 / 安吉拉·温特 / 利亚 哈维 / 伊萨·佩里卡 / 史蒂夫·蒂英楚 / 尼扎·本·菲特玛 / 阿尔-哈桑·利...</p>\\n\\n                    \\n\\n\\n                        \\n                        <div class=\"star clearfix\">\\n                                <span class=\"allstar40\"></span>\\n                                <span class=\"rating_nums\">8.2</span>\\n                                <span class=\"pl\">(20427人评价)</span>\\n\\n                        </div>\\n\\n\\n                </div>\\n\\n            </td>\\n        </tr>\\n    </table>\\n    <div id=\"collect_form_33417030\"></div>\\n    <p class=\"ul\"></p>\\n    <table width=\"100%\" class=\"\">\\n        <tr class=\"item\">\\n            <td width=\"100\" valign=\"top\">\\n                \\n\\n                    <a class=\"nbg\" href=\"https://movie.douban.com/subject/30401849/\"  title=\"1/2的魔法\">\\n                        <img src=\"https://img3.doubanio.com/view/photo/s_ratio_poster/public/p2575243691.jpg\" width=\"75\" alt=\"1/2的魔法\" class=\"\"/>\\n                    </a>\\n            </td>\\n\\n            <td valign=\"top\">\\n                \\n\\n                <div class=\"pl2\">\\n\\n                    <a href=\"https://movie.douban.com/subject/30401849/\"  class=\"\">\\n                        1/2的魔法\\n                        / <span style=\"font-size:13px;\">二分之一的魔法 / 魔法环游记</span>\\n                    </a>\\n\\n\\n\\n                    <p class=\"pl\">2020-02-21(柏林电影节) / 2020-03-06(美国) / 汤姆·赫兰德 / 克里斯·帕拉特 / 茱莉亚·路易斯-德瑞弗斯 / 奥克塔维亚·斯宾瑟 / 梅尔·罗德里格斯 / 凯尔·柏海莫 / 丽娜·维特 / 黄阿丽 / 格蕾·德丽斯勒 / 崔茜·尤玛 / 维尔摩·瓦尔德拉玛...</p>\\n\\n                    \\n\\n\\n                        \\n                        <div class=\"star clearfix\">\\n                                <span class=\"allstar40\"></span>\\n                                <span class=\"rating_nums\">7.9</span>\\n                                <span class=\"pl\">(18591人评价)</span>\\n\\n                        </div>\\n\\n\\n                </div>\\n\\n            </td>\\n        </tr>\\n    </table>\\n    <div id=\"collect_form_30401849\"></div>\\n    <p class=\"ul\"></p>\\n    <table width=\"100%\" class=\"\">\\n        <tr class=\"item\">\\n            <td width=\"100\" valign=\"top\">\\n                \\n\\n                    <a class=\"nbg\" href=\"https://movie.douban.com/subject/27046758/\"  title=\"逃离比勒陀利亚\">\\n                        <img src=\"https://img1.doubanio.com/view/photo/s_ratio_poster/public/p2589768807.jpg\" width=\"75\" alt=\"逃离比勒陀利亚\" class=\"\"/>\\n                    </a>\\n            </td>\\n\\n            <td valign=\"top\">\\n                \\n\\n                <div class=\"pl2\">\\n\\n                    <a href=\"https://movie.douban.com/subject/27046758/\"  class=\"\">\\n                        逃离比勒陀利亚\\n                        / <span style=\"font-size:13px;\">钥命监狱(台)</span>\\n                    </a>\\n\\n\\n\\n                    <p class=\"pl\">2020-03-06(英国) / 丹尼尔·雷德克里夫 / 伊恩·哈特 / 丹尼尔·韦伯 / 内森·佩吉 / 斯蒂芬·亨特 / 马克·伦纳德·温特 / 珍妮特·克罗宁 / 山姆·尼尔 / Ratidzo Mambo / 英国 / 澳大利亚 / 弗朗西斯·安南 / 106分钟 / 逃离比勒陀利亚 / 剧情 / 犯罪...</p>\\n\\n                    \\n\\n\\n                        \\n                        <div class=\"star clearfix\">\\n                                <span class=\"allstar40\"></span>\\n                                <span class=\"rating_nums\">7.6</span>\\n                                <span class=\"pl\">(26450人评价)</span>\\n\\n                        </div>\\n\\n\\n                </div>\\n\\n            </td>\\n        </tr>\\n    </table>\\n    <div id=\"collect_form_27046758\"></div>\\n    <p class=\"ul\"></p>\\n    <table width=\"100%\" class=\"\">\\n        <tr class=\"item\">\\n            <td width=\"100\" valign=\"top\">\\n                \\n\\n                    <a class=\"nbg\" href=\"https://movie.douban.com/subject/34670218/\"  title=\"大赢家\">\\n                        <img src=\"https://img3.doubanio.com/view/photo/s_ratio_poster/public/p2591946932.jpg\" width=\"75\" alt=\"大赢家\" class=\"\"/>\\n                    </a>\\n            </td>\\n\\n            <td valign=\"top\">\\n                \\n\\n                <div class=\"pl2\">\\n\\n                    <a href=\"https://movie.douban.com/subject/34670218/\"  class=\"\">\\n                        大赢家\\n                        / <span style=\"font-size:13px;\">The Winners</span>\\n                    </a>\\n\\n\\n                        <span style=\"font-size: 13px; padding-left: 3px; color: #00A65F;\">[可播放]</span>\\n\\n                    <p class=\"pl\">2020-03-20(中国大陆) / 大鹏 / 柳岩 / 代乐乐 / 张子贤 / 田雨 / 孟鹤堂 / 陶慧 / 许娣 / 王戈 / 杜源 / 阿如那 / 张绍荣 / 张帆 / 夏甄 / 杨砚铎 / 臧鸿飞 / 李萍 / 乔晟一 / 孟非 / 屈菁菁 / 腾格尔 / 叶晞月 / 杜维瀚 / 耿业庭 / 生港帅 / 黄涛...</p>\\n\\n                    \\n\\n\\n                        \\n                        <div class=\"star clearfix\">\\n                                <span class=\"allstar35\"></span>\\n                                <span class=\"rating_nums\">6.8</span>\\n                                <span class=\"pl\">(127402人评价)</span>\\n\\n                        </div>\\n\\n\\n                </div>\\n\\n            </td>\\n        </tr>\\n    </table>\\n    <div id=\"collect_form_34670218\"></div>\\n    <p class=\"ul\"></p>\\n    <table width=\"100%\" class=\"\">\\n        <tr class=\"item\">\\n            <td width=\"100\" valign=\"top\">\\n                \\n\\n                    <a class=\"nbg\" href=\"https://movie.douban.com/subject/27199324/\"  title=\"野性的呼唤\">\\n                        <img src=\"https://img3.doubanio.com/view/photo/s_ratio_poster/public/p2583544383.jpg\" width=\"75\" alt=\"野性的呼唤\" class=\"\"/>\\n                    </a>\\n            </td>\\n\\n            <td valign=\"top\">\\n                \\n\\n                <div class=\"pl2\">\\n\\n                    <a href=\"https://movie.douban.com/subject/27199324/\"  class=\"\">\\n                        野性的呼唤\\n                        / <span style=\"font-size:13px;\">荒野的呼唤 / 极地守护犬(港/台)</span>\\n                    </a>\\n\\n\\n\\n                    <p class=\"pl\">2020-02-21(美国) / 2020(中国大陆) / 哈里森·福特 / 丹·史蒂文斯 / 凯伦·吉兰 / 布莱德利·惠特福德 / 珍·路易莎·凯利 / 泰瑞·诺塔里 / 卡卡琪 / 奥玛·希 / 科林·伍德尔 / 韦斯·布朗 / 安东尼·莫利纳利 / 布拉德·格林奎斯特 / 亚当·弗格斯...</p>\\n\\n                    \\n\\n\\n                        \\n                        <div class=\"star clearfix\">\\n                                <span class=\"allstar35\"></span>\\n                                <span class=\"rating_nums\">7.1</span>\\n                                <span class=\"pl\">(8754人评价)</span>\\n\\n                        </div>\\n\\n\\n                </div>\\n\\n            </td>\\n        </tr>\\n    </table>\\n    <div id=\"collect_form_27199324\"></div>\\n</div>\\n\\n\\n    </div>\\n    \\n\\n            </div>\\n            <div class=\"aside\">\\n                \\n    \\n  \\n  <div>\\n      <h2>分类排行榜 · · · · · ·<img style=\" position: absolute;\" src=\"https://img3.doubanio.com/f/shire/e49eca1517424a941871a2667a8957fd6c72d632/pics/new_menu.gif\"></h2>\\n      <div class=\"types\">\\n          <span><a href=\"/typerank?type_name=剧情&type=11&interval_id=100:90&action=\">剧情</a></span>\\n          <span><a href=\"/typerank?type_name=喜剧&type=24&interval_id=100:90&action=\">喜剧</a></span>\\n          <span><a href=\"/typerank?type_name=动作&type=5&interval_id=100:90&action=\">动作</a></span>\\n          <span><a href=\"/typerank?type_name=爱情&type=13&interval_id=100:90&action=\">爱情</a></span>\\n          <span><a href=\"/typerank?type_name=科幻&type=17&interval_id=100:90&action=\">科幻</a></span>\\n          <span><a href=\"/typerank?type_name=动画&type=25&interval_id=100:90&action=\">动画</a></span>\\n          <span><a href=\"/typerank?type_name=悬疑&type=10&interval_id=100:90&action=\">悬疑</a></span>\\n          <span><a href=\"/typerank?type_name=惊悚&type=19&interval_id=100:90&action=\">惊悚</a></span>\\n          <span><a href=\"/typerank?type_name=恐怖&type=20&interval_id=100:90&action=\">恐怖</a></span>\\n          <span><a href=\"/typerank?type_name=纪录片&type=1&interval_id=100:90&action=\">纪录片</a></span>\\n          <span><a href=\"/typerank?type_name=短片&type=23&interval_id=100:90&action=\">短片</a></span>\\n          <span><a href=\"/typerank?type_name=情色&type=6&interval_id=100:90&action=\">情色</a></span>\\n          <span><a href=\"/typerank?type_name=同性&type=26&interval_id=100:90&action=\">同性</a></span>\\n          <span><a href=\"/typerank?type_name=音乐&type=14&interval_id=100:90&action=\">音乐</a></span>\\n          <span><a href=\"/typerank?type_name=歌舞&type=7&interval_id=100:90&action=\">歌舞</a></span>\\n          <span><a href=\"/typerank?type_name=家庭&type=28&interval_id=100:90&action=\">家庭</a></span>\\n          <span><a href=\"/typerank?type_name=儿童&type=8&interval_id=100:90&action=\">儿童</a></span>\\n          <span><a href=\"/typerank?type_name=传记&type=2&interval_id=100:90&action=\">传记</a></span>\\n          <span><a href=\"/typerank?type_name=历史&type=4&interval_id=100:90&action=\">历史</a></span>\\n          <span><a href=\"/typerank?type_name=战争&type=22&interval_id=100:90&action=\">战争</a></span>\\n          <span><a href=\"/typerank?type_name=犯罪&type=3&interval_id=100:90&action=\">犯罪</a></span>\\n          <span><a href=\"/typerank?type_name=西部&type=27&interval_id=100:90&action=\">西部</a></span>\\n          <span><a href=\"/typerank?type_name=奇幻&type=16&interval_id=100:90&action=\">奇幻</a></span>\\n          <span><a href=\"/typerank?type_name=冒险&type=15&interval_id=100:90&action=\">冒险</a></span>\\n          <span><a href=\"/typerank?type_name=灾难&type=12&interval_id=100:90&action=\">灾难</a></span>\\n          <span><a href=\"/typerank?type_name=武侠&type=29&interval_id=100:90&action=\">武侠</a></span>\\n          <span><a href=\"/typerank?type_name=古装&type=30&interval_id=100:90&action=\">古装</a></span>\\n          <span><a href=\"/typerank?type_name=运动&type=18&interval_id=100:90&action=\">运动</a></span>\\n          <span><a href=\"/typerank?type_name=黑色电影&type=31&interval_id=100:90&action=\">黑色电影</a></span>\\n      </div>\\n  </div>\\n\\n    <!-- douban ad begin -->\\n    <div id=\"dale_movie_chart_top_right\"></div>\\n    <!-- douban ad end -->\\n\\n    \\n    <div class=\"movie_top\" id=\"ranking\">\\n    <div class=\"movie_top\" id=\"ranking\">\\n        \\n    \\n    \\n    <h2>一周口碑榜· · · · · · <span class=\"box_chart_num color-gray\">4月17日 更新</span></h2>\\n    <ul class=\"content\" id=\"listCont2\">\\n        <li class=\"clearfix\">\\n            <div class=\"no\">1</div>\\n            <div class=\"name\">\\n                <a onclick=\"moreurl(this, {from:\\'mv_week\\'})\" href=\"https://movie.douban.com/subject/34875369/\" class=\"\">\\n                    7号房的礼物(土耳其版)\\n                </a>\\n            </div>\\n            <span class=\"\">\\n                    <div class=\"up\">10</div>\\n            </span>\\n        </li>\\n        <li class=\"clearfix\">\\n            <div class=\"no\">2</div>\\n            <div class=\"name\">\\n                <a onclick=\"moreurl(this, {from:\\'mv_week\\'})\" href=\"https://movie.douban.com/subject/33417030/\" class=\"\">\\n                    悲惨世界\\n                </a>\\n            </div>\\n            <span class=\"\">\\n                    <div class=\"stay\">0</div>\\n            </span>\\n        </li>\\n        <li class=\"clearfix\">\\n            <div class=\"no\">3</div>\\n            <div class=\"name\">\\n                <a onclick=\"moreurl(this, {from:\\'mv_week\\'})\" href=\"https://movie.douban.com/subject/34608294/\" class=\"\">\\n                    再见，妈妈\\n                </a>\\n            </div>\\n            <span class=\"\">\\n                    <div class=\"up\">8</div>\\n            </span>\\n        </li>\\n        <li class=\"clearfix\">\\n            <div class=\"no\">4</div>\\n            <div class=\"name\">\\n                <a onclick=\"moreurl(this, {from:\\'mv_week\\'})\" href=\"https://movie.douban.com/subject/35024535/\" class=\"\">\\n                    摩登家庭：摩登式告别\\n                </a>\\n            </div>\\n            <span class=\"\">\\n                    <div class=\"up\">7</div>\\n            </span>\\n        </li>\\n        <li class=\"clearfix\">\\n            <div class=\"no\">5</div>\\n            <div class=\"name\">\\n                <a onclick=\"moreurl(this, {from:\\'mv_week\\'})\" href=\"https://movie.douban.com/subject/5327156/\" class=\"\">\\n                    被涂污的鸟\\n                </a>\\n            </div>\\n            <span class=\"\">\\n                    <div class=\"down\">2</div>\\n            </span>\\n        </li>\\n        <li class=\"clearfix\">\\n            <div class=\"no\">6</div>\\n            <div class=\"name\">\\n                <a onclick=\"moreurl(this, {from:\\'mv_week\\'})\" href=\"https://movie.douban.com/subject/26923111/\" class=\"\">\\n                    必是天堂\\n                </a>\\n            </div>\\n            <span class=\"\">\\n                    <div class=\"up\">5</div>\\n            </span>\\n        </li>\\n        <li class=\"clearfix\">\\n            <div class=\"no\">7</div>\\n            <div class=\"name\">\\n                <a onclick=\"moreurl(this, {from:\\'mv_week\\'})\" href=\"https://movie.douban.com/subject/34461680/\" class=\"\">\\n                    要强的人\\n                </a>\\n            </div>\\n            <span class=\"\">\\n                    <div class=\"stay\">0</div>\\n            </span>\\n        </li>\\n        <li class=\"clearfix\">\\n            <div class=\"no\">8</div>\\n            <div class=\"name\">\\n                <a onclick=\"moreurl(this, {from:\\'mv_week\\'})\" href=\"https://movie.douban.com/subject/33411505/\" class=\"\">\\n                    从不，很少，有时，总是\\n                </a>\\n            </div>\\n            <span class=\"\">\\n                    <div class=\"down\">2</div>\\n            </span>\\n        </li>\\n        <li class=\"clearfix\">\\n            <div class=\"no\">9</div>\\n            <div class=\"name\">\\n                <a onclick=\"moreurl(this, {from:\\'mv_week\\'})\" href=\"https://movie.douban.com/subject/30401194/\" class=\"\">\\n                    你好世界\\n                </a>\\n            </div>\\n            <span class=\"\">\\n                    <div class=\"stay\">0</div>\\n            </span>\\n        </li>\\n        <li class=\"clearfix\">\\n            <div class=\"no\">10</div>\\n            <div class=\"name\">\\n                <a onclick=\"moreurl(this, {from:\\'mv_week\\'})\" href=\"https://movie.douban.com/subject/27604232/\" class=\"\">\\n                    忙人日记\\n                </a>\\n            </div>\\n            <span class=\"\">\\n                    <div class=\"up\">1</div>\\n            </span>\\n        </li>\\n    </ul>\\n\\n    </div>\\n\\n    <div class=\"movie_top\" id=\"ranking\">\\n        \\n    \\n    <h2>北美票房榜· · · · · · <span class=\"box_chart_num color-gray\">3月13日 更新 / 美元</span></h2>\\n    <ul class=\"content\" id=\"listCont1\">\\n            \\n                <li class=\"clearfix\">\\n                    <div class=\"no\">1</div>\\n                    <div class=\"box_chart\">\\n                        <a onclick=\"moreurl(this, {from:\\'mv_us_week\\'})\" href=\"https://movie.douban.com/subject/30401849/\" class=\"\">\\n                            1/2的魔法\\n                        </a>\\n                    </div>\\n                    <span class=\"box_chart_num color-gray\">1053万</span>\\n                </li>\\n            \\n                <li class=\"clearfix\">\\n                    <div class=\"no\">2</div>\\n                    <div class=\"box_chart\">\\n                        <a onclick=\"moreurl(this, {from:\\'mv_us_week\\'})\" href=\"https://movie.douban.com/subject/34802738/\" class=\"\">\\n                            我仍然相信\\n                        </a>\\n                                <img src=\"https://img3.doubanio.com/f/shire/267048ed5190c4c6b513c2e559cae7ae8b8f0af5/pics/box_new.png\" />\\n                    </div>\\n                    <span class=\"box_chart_num color-gray\">950万</span>\\n                </li>\\n            \\n                <li class=\"clearfix\">\\n                    <div class=\"no\">3</div>\\n                    <div class=\"box_chart\">\\n                        <a onclick=\"moreurl(this, {from:\\'mv_us_week\\'})\" href=\"https://movie.douban.com/subject/4830483/\" class=\"\">\\n                            喋血战士\\n                        </a>\\n                                <img src=\"https://img3.doubanio.com/f/shire/267048ed5190c4c6b513c2e559cae7ae8b8f0af5/pics/box_new.png\" />\\n                    </div>\\n                    <span class=\"box_chart_num color-gray\">930万</span>\\n                </li>\\n            \\n                <li class=\"clearfix\">\\n                    <div class=\"no\">4</div>\\n                    <div class=\"box_chart\">\\n                        <a onclick=\"moreurl(this, {from:\\'mv_us_week\\'})\" href=\"https://movie.douban.com/subject/2364086/\" class=\"\">\\n                            隐形人\\n                        </a>\\n                    </div>\\n                    <span class=\"box_chart_num color-gray\">600万</span>\\n                </li>\\n            \\n                <li class=\"clearfix\">\\n                    <div class=\"no\">5</div>\\n                    <div class=\"box_chart\">\\n                        <a onclick=\"moreurl(this, {from:\\'mv_us_week\\'})\" href=\"https://movie.douban.com/subject/30182726/\" class=\"\">\\n                            狩猎\\n                        </a>\\n                                <img src=\"https://img3.doubanio.com/f/shire/267048ed5190c4c6b513c2e559cae7ae8b8f0af5/pics/box_new.png\" />\\n                    </div>\\n                    <span class=\"box_chart_num color-gray\">532万</span>\\n                </li>\\n            \\n                <li class=\"clearfix\">\\n                    <div class=\"no\">6</div>\\n                    <div class=\"box_chart\">\\n                        <a onclick=\"moreurl(this, {from:\\'mv_us_week\\'})\" href=\"https://movie.douban.com/subject/25905044/\" class=\"\">\\n                            刺猬索尼克\\n                        </a>\\n                    </div>\\n                    <span class=\"box_chart_num color-gray\">258万</span>\\n                </li>\\n            \\n                <li class=\"clearfix\">\\n                    <div class=\"no\">7</div>\\n                    <div class=\"box_chart\">\\n                        <a onclick=\"moreurl(this, {from:\\'mv_us_week\\'})\" href=\"https://movie.douban.com/subject/30345227/\" class=\"\">\\n                            回归之路\\n                        </a>\\n                    </div>\\n                    <span class=\"box_chart_num color-gray\">242万</span>\\n                </li>\\n            \\n                <li class=\"clearfix\">\\n                    <div class=\"no\">8</div>\\n                    <div class=\"box_chart\">\\n                        <a onclick=\"moreurl(this, {from:\\'mv_us_week\\'})\" href=\"https://movie.douban.com/subject/27199324/\" class=\"\">\\n                            野性的呼唤\\n                        </a>\\n                    </div>\\n                    <span class=\"box_chart_num color-gray\">224万</span>\\n                </li>\\n            \\n                <li class=\"clearfix\">\\n                    <div class=\"no\">9</div>\\n                    <div class=\"box_chart\">\\n                        <a onclick=\"moreurl(this, {from:\\'mv_us_week\\'})\" href=\"https://movie.douban.com/subject/30361878/\" class=\"\">\\n                            爱玛\\n                        </a>\\n                    </div>\\n                    <span class=\"box_chart_num color-gray\">137万</span>\\n                </li>\\n            \\n                <li class=\"clearfix\">\\n                    <div class=\"no\">10</div>\\n                    <div class=\"box_chart\">\\n                        <a onclick=\"moreurl(this, {from:\\'mv_us_week\\'})\" href=\"https://movie.douban.com/subject/4014397/\" class=\"\">\\n                            绝地战警：疾速追击\\n                        </a>\\n                    </div>\\n                    <span class=\"box_chart_num color-gray\">110万</span>\\n                </li>\\n    </ul>\\n\\n    </div>\\n\\n    <!-- douban ad begin -->\\n    \\n\\n\\n\\n\\n\\n<div class=\"mobile-app-entrance block5 app-movie\">\\n    <a class=\"entrance-link\" href=\"https://www.douban.com/doubanapp/frodo\">\\n        <div class=\"entrance-qrcode\">\\n            <img src=\"https://img3.doubanio.com/f/movie/a02f6ed325fc52e220f299d51e730c422e2bcd16/pics/movie/douban_app_ad/qrcode.png\" alt=\"扫码下载豆瓣 App\" width=\"80\" height=\"80\" />\\n        </div>\\n        <div class=\"entrance-info\">\\n            <span class=\"app-icon icon-movie\"></span>\\n            <span class=\"main-title\">豆瓣</span>\\n            <span class=\"sub-title\">你的移动观影指南</span>\\n        </div>\\n    </a>\\n</div>\\n\\n    <!-- douban ad end -->\\n\\n        <div class=\"indent\">\\n            \\n    <div id=\"douban-top250\">\\n        <div class=\"douban-top250-hd\">\\n            <h2>豆瓣电影TOP250\\n                <span>\\n                    <a href=\"https://movie.douban.com/top250\">全部&nbsp;</a>\\n                </span>\\n            </h2>\\n        </div>\\n        <div class=\"douban-top250-bd\">\\n            \\n        <dl class=\"\">\\n            <dt>\\n                <a onclick=\"moreurl(this, {from:\\'mv_tops\\'})\" href=\"https://movie.douban.com/subject/1900841/?from=top250\">\\n                    <img src=\"https://img1.doubanio.com/view/photo/s_ratio_poster/public/p1808872109.jpg\" class=\"m_sub_img\"/>\\n                </a>\\n            </dt>\\n            <dd>\\n                <a onclick=\"moreurl(this, {from:\\'mv_tops\\'})\" href=\"https://movie.douban.com/subject/1900841/?from=top250\" class=\"\">\\n                    窃听风暴\\n                </a>\\n                <span class=\"gact\"></span><br/>\\n            </dd>\\n        </dl>\\n        <dl class=\"\">\\n            <dt>\\n                <a onclick=\"moreurl(this, {from:\\'mv_tops\\'})\" href=\"https://movie.douban.com/subject/1293181/?from=top250\">\\n                    <img src=\"https://img9.doubanio.com/view/photo/s_ratio_poster/public/p1021883305.jpg\" class=\"m_sub_img\"/>\\n                </a>\\n            </dt>\\n            <dd>\\n                <a onclick=\"moreurl(this, {from:\\'mv_tops\\'})\" href=\"https://movie.douban.com/subject/1293181/?from=top250\" class=\"\">\\n                    惊魂记\\n                </a>\\n                <span class=\"gact\"></span><br/>\\n            </dd>\\n        </dl>\\n        <dl class=\"\">\\n            <dt>\\n                <a onclick=\"moreurl(this, {from:\\'mv_tops\\'})\" href=\"https://movie.douban.com/subject/1296736/?from=top250\">\\n                    <img src=\"https://img3.doubanio.com/view/photo/s_ratio_poster/public/p792376093.jpg\" class=\"m_sub_img\"/>\\n                </a>\\n            </dt>\\n            <dd>\\n                <a onclick=\"moreurl(this, {from:\\'mv_tops\\'})\" href=\"https://movie.douban.com/subject/1296736/?from=top250\" class=\"\">\\n                    钢琴家\\n                </a>\\n                <span class=\"gact\"></span><br/>\\n            </dd>\\n        </dl>\\n            <div class=\"clearfix rr\" style=\"width:100%\"></div>\\n        <dl class=\"\">\\n            <dt>\\n                <a onclick=\"moreurl(this, {from:\\'mv_tops\\'})\" href=\"https://movie.douban.com/subject/1862151/?from=top250\">\\n                    <img src=\"https://img3.doubanio.com/view/photo/s_ratio_poster/public/p712241453.jpg\" class=\"m_sub_img\"/>\\n                </a>\\n            </dt>\\n            <dd>\\n                <a onclick=\"moreurl(this, {from:\\'mv_tops\\'})\" href=\"https://movie.douban.com/subject/1862151/?from=top250\" class=\"\">\\n                    疯狂的石头\\n                </a>\\n                <span class=\"gact\"></span><br/>\\n            </dd>\\n        </dl>\\n        <dl class=\"\">\\n            <dt>\\n                <a onclick=\"moreurl(this, {from:\\'mv_tops\\'})\" href=\"https://movie.douban.com/subject/1291822/?from=top250\">\\n                    <img src=\"https://img3.doubanio.com/view/photo/s_ratio_poster/public/p470419493.jpg\" class=\"m_sub_img\"/>\\n                </a>\\n            </dt>\\n            <dd>\\n                <a onclick=\"moreurl(this, {from:\\'mv_tops\\'})\" href=\"https://movie.douban.com/subject/1291822/?from=top250\" class=\"\">\\n                    卢旺达饭店\\n                </a>\\n                <span class=\"gact\"></span><br/>\\n            </dd>\\n        </dl>\\n        <dl class=\"\">\\n            <dt>\\n                <a onclick=\"moreurl(this, {from:\\'mv_tops\\'})\" href=\"https://movie.douban.com/subject/1293350/?from=top250\">\\n                    <img src=\"https://img1.doubanio.com/view/photo/s_ratio_poster/public/p792443418.jpg\" class=\"m_sub_img\"/>\\n                </a>\\n            </dt>\\n            <dd>\\n                <a onclick=\"moreurl(this, {from:\\'mv_tops\\'})\" href=\"https://movie.douban.com/subject/1293350/?from=top250\" class=\"\">\\n                    两杆大烟枪\\n                </a>\\n                <span class=\"gact\"></span><br/>\\n            </dd>\\n        </dl>\\n            <div class=\"clearfix rr\" style=\"width:100%\"></div>\\n        <dl class=\"\">\\n            <dt>\\n                <a onclick=\"moreurl(this, {from:\\'mv_tops\\'})\" href=\"https://movie.douban.com/subject/1292434/?from=top250\">\\n                    <img src=\"https://img3.doubanio.com/view/photo/s_ratio_poster/public/p2567845803.jpg\" class=\"m_sub_img\"/>\\n                </a>\\n            </dt>\\n            <dd>\\n                <a onclick=\"moreurl(this, {from:\\'mv_tops\\'})\" href=\"https://movie.douban.com/subject/1292434/?from=top250\" class=\"\">\\n                    一一\\n                </a>\\n                <span class=\"gact\"></span><br/>\\n            </dd>\\n        </dl>\\n        <dl class=\"\">\\n            <dt>\\n                <a onclick=\"moreurl(this, {from:\\'mv_tops\\'})\" href=\"https://movie.douban.com/subject/2363506/?from=top250\">\\n                    <img src=\"https://img9.doubanio.com/view/photo/s_ratio_poster/public/p1973489335.jpg\" class=\"m_sub_img\"/>\\n                </a>\\n            </dt>\\n            <dd>\\n                <a onclick=\"moreurl(this, {from:\\'mv_tops\\'})\" href=\"https://movie.douban.com/subject/2363506/?from=top250\" class=\"\">\\n                    地球上的星星\\n                </a>\\n                <span class=\"gact\"></span><br/>\\n            </dd>\\n        </dl>\\n        <dl class=\"\">\\n            <dt>\\n                <a onclick=\"moreurl(this, {from:\\'mv_tops\\'})\" href=\"https://movie.douban.com/subject/3075287/?from=top250\">\\n                    <img src=\"https://img9.doubanio.com/view/photo/s_ratio_poster/public/p988260245.jpg\" class=\"m_sub_img\"/>\\n                </a>\\n            </dt>\\n            <dd>\\n                <a onclick=\"moreurl(this, {from:\\'mv_tops\\'})\" href=\"https://movie.douban.com/subject/3075287/?from=top250\" class=\"\">\\n                    源代码\\n                </a>\\n                <span class=\"gact\"></span><br/>\\n            </dd>\\n        </dl>\\n            <div class=\"clearfix rr\" style=\"width:100%\"></div>\\n        <dl class=\"\">\\n            <dt>\\n                <a onclick=\"moreurl(this, {from:\\'mv_tops\\'})\" href=\"https://movie.douban.com/subject/1295644/?from=top250\">\\n                    <img src=\"https://img3.doubanio.com/view/photo/s_ratio_poster/public/p511118051.jpg\" class=\"m_sub_img\"/>\\n                </a>\\n            </dt>\\n            <dd>\\n                <a onclick=\"moreurl(this, {from:\\'mv_tops\\'})\" href=\"https://movie.douban.com/subject/1295644/?from=top250\" class=\"\">\\n                    这个杀手不太冷\\n                </a>\\n                <span class=\"gact\"></span><br/>\\n            </dd>\\n        </dl>\\n        <dl class=\"\">\\n            <dt>\\n                <a onclick=\"moreurl(this, {from:\\'mv_tops\\'})\" href=\"https://movie.douban.com/subject/1292052/?from=top250\">\\n                    <img src=\"https://img3.doubanio.com/view/photo/s_ratio_poster/public/p480747492.jpg\" class=\"m_sub_img\"/>\\n                </a>\\n            </dt>\\n            <dd>\\n                <a onclick=\"moreurl(this, {from:\\'mv_tops\\'})\" href=\"https://movie.douban.com/subject/1292052/?from=top250\" class=\"\">\\n                    肖申克的救赎\\n                </a>\\n                <span class=\"gact\"></span><br/>\\n            </dd>\\n        </dl>\\n        <dl class=\"\">\\n            <dt>\\n                <a onclick=\"moreurl(this, {from:\\'mv_tops\\'})\" href=\"https://movie.douban.com/subject/1293172/?from=top250\">\\n                    <img src=\"https://img3.doubanio.com/view/photo/s_ratio_poster/public/p452089833.jpg\" class=\"m_sub_img\"/>\\n                </a>\\n            </dt>\\n            <dd>\\n                <a onclick=\"moreurl(this, {from:\\'mv_tops\\'})\" href=\"https://movie.douban.com/subject/1293172/?from=top250\" class=\"\">\\n                    末代皇帝\\n                </a>\\n                <span class=\"gact\"></span><br/>\\n            </dd>\\n        </dl>\\n            <div class=\"clearfix rr\" style=\"width:100%\"></div>\\n\\n        </div>\\n    </div>\\n    \\n\\n        </div>\\n    </div>\\n\\n            </div>\\n            <div class=\"extra\">\\n                \\n    <!-- douban ad begin -->\\n    <div id=\"dale_movie_chart_bottom_banner\"></div>\\n    <!-- douban ad end -->\\n\\n            </div>\\n        </div>\\n    </div>\\n\\n        \\n    <div id=\"footer\">\\n            <div class=\"footer-extra\"></div>\\n        \\n<span id=\"icp\" class=\"fleft gray-link\">\\n    &copy; 2005－2020 douban.com, all rights reserved 北京豆网科技有限公司\\n</span>\\n\\n<a href=\"https://www.douban.com/hnypt/variformcyst.py\" style=\"display: none;\"></a>\\n\\n<span class=\"fright\">\\n    <a href=\"https://www.douban.com/about\">关于豆瓣</a>\\n    · <a href=\"https://www.douban.com/jobs\">在豆瓣工作</a>\\n    · <a href=\"https://www.douban.com/about?topic=contactus\">联系我们</a>\\n    · <a href=\"https://www.douban.com/about/legal\">法律声明</a>\\n    \\n    · <a href=\"https://help.douban.com/?app=movie\" target=\"_blank\">帮助中心</a>\\n    · <a href=\"https://www.douban.com/doubanapp/\">移动应用</a>\\n    · <a href=\"https://www.douban.com/partner/\">豆瓣广告</a>\\n</span>\\n\\n    </div>\\n\\n    </div>\\n    <!-- COLLECTED JS -->\\n        \\n        \\n    <link rel=\"stylesheet\" type=\"text/css\" href=\"https://img3.doubanio.com/f/shire/8377b9498330a2e6f056d863987cc7a37eb4d486/css/ui/dialog.css\" />\\n    <link rel=\"stylesheet\" type=\"text/css\" href=\"https://img3.doubanio.com/f/movie/4aca95d66d37ec0712b3d19973b5d8feb75f2f05/css/movie/mod/reg_login_pop.css\" />\\n    <script type=\"text/javascript\" src=\"https://img3.doubanio.com/f/shire/77323ae72a612bba8b65f845491513ff3329b1bb/js/do.js\" data-cfg-autoload=\"false\"></script>\\n    <script type=\"text/javascript\" src=\"https://img3.doubanio.com/f/shire/383a6e43f2108dc69e3ff2681bc4dc6c72a5ffb0/js/ui/dialog.js\"></script>\\n    <script type=\"text/javascript\">\\n        var HTTPS_DB=\\'https://www.douban.com\\';\\nvar account_pop={open:function(o,e){e?referrer=\"?referrer=\"+encodeURIComponent(e):referrer=\"?referrer=\"+window.location.href;var n=\"\",i=\"\",t=448;n=\"用户登录\",i=\"https://accounts.douban.com/passport/login_popup?source=movie\";var r=document.location.protocol+\"//\"+document.location.hostname,a=dui.Dialog({width:340,title:n,height:t,cls:\"account_pop\",isHideTitle:!0,modal:!0,content:\"<iframe scrolling=\\'no\\' frameborder=\\'0\\' width=\\'340\\' height=\\'\"+t+\"\\' src=\\'\"+i+\"\\' name=\\'\"+r+\"\\'></iframe>\"},!0),c=a.node;if(c.undelegate(),c.delegate(\".dui-dialog-close\",\"click\",function(){var o=$(\"body\");o.find(\"#login_msk\").hide(),o.find(\".account_pop\").remove()}),$(window).width()<478){var d=\"\";\"reg\"===o?d=HTTPS_DB+\"/accounts/register\"+referrer:\"login\"===o&&(d=HTTPS_DB+\"/accounts/login\"+referrer),window.location.href=d}else a.open();$(window).bind(\"message\",function(o){\"https://accounts.douban.com\"===o.originalEvent.origin&&(c.find(\"iframe\").css(\"height\",o.originalEvent.data),c.height(o.originalEvent.data),a.update())})}};Douban&&Douban.init_show_login&&(Douban.init_show_login=function(o){var e=$(o);e.click(function(){var o=e.data(\"ref\")||\"\";return account_pop.open(\"login\",o),!1})}),Do(function(){$(\"body\").delegate(\".pop_register\",\"click\",function(o){o.preventDefault();var e=$(this).data(\"ref\")||\"\";return account_pop.open(\"reg\",e),!1}),$(\"body\").delegate(\".pop_login\",\"click\",function(o){o.preventDefault();var e=$(this).data(\"ref\")||\"\";return account_pop.open(\"login\",e),!1})});\\n    </script>\\n\\n    \\n    <!-- douban ad begin -->\\n    \\n\\n\\n\\n\\n    \\n<script type=\"text/javascript\">\\n    (function (global) {\\n        var newNode = global.document.createElement(\\'script\\'),\\n            existingNode = global.document.getElementsByTagName(\\'script\\')[0],\\n            adSource = \\'//erebor.douban.com/\\',\\n            userId = \\'\\',\\n            browserId = \\'lgpDK1ebHJw\\',\\n            criteria = \\'3:/chart\\',\\n            preview = \\'\\',\\n            debug = false,\\n            adSlots = [\\'dale_movie_chart_top_right\\', \\'dale_movie_chart_bottom_banner\\'];\\n\\n        global.DoubanAdRequest = {src: adSource, uid: userId, bid: browserId, crtr: criteria, prv: preview, debug: debug};\\n        global.DoubanAdSlots = (global.DoubanAdSlots || []).concat(adSlots);\\n\\n        newNode.setAttribute(\\'type\\', \\'text/javascript\\');\\n        newNode.setAttribute(\\'src\\', \\'//img1.doubanio.com/eDRjYjNvdi9mL2FkanMvZTQ2YTNkMjgwYjBiMzc2OWE4YTI3MWFhMzI0NTQwMTBlMWY3OTYzMy9hZC5yZWxlYXNlLmpz\\');\\n        newNode.setAttribute(\\'async\\', true);\\n        existingNode.parentNode.insertBefore(newNode, existingNode);\\n    })(this);\\n</script>\\n\\n\\n\\n\\n\\n\\n\\n\\n\\n\\n    <!-- douban ad end -->\\n\\n    \\n  \\n\\n\\n\\n\\n\\n\\n\\n\\n\\n<script type=\"text/javascript\">\\nvar _paq = _paq || [];\\n_paq.push([\\'trackPageView\\']);\\n_paq.push([\\'enableLinkTracking\\']);\\n(function() {\\n    var p=((\\'https:\\' == document.location.protocol) ? \\'https\\' : \\'http\\'), u=p+\\'://fundin.douban.com/\\';\\n    _paq.push([\\'setTrackerUrl\\', u+\\'piwik\\']);\\n    _paq.push([\\'setSiteId\\', \\'100001\\']);\\n    var d=document, g=d.createElement(\\'script\\'), s=d.getElementsByTagName(\\'script\\')[0];\\n    g.type=\\'text/javascript\\';\\n    g.defer=true;\\n    g.async=true;\\n    g.src=p+\\'://img3.doubanio.com/dae/fundin/piwik.js\\';\\n    s.parentNode.insertBefore(g,s);\\n})();\\n</script>\\n\\n<script type=\"text/javascript\">\\nvar setMethodWithNs = function(namespace) {\\n  var ns = namespace ? namespace + \\'.\\' : \\'\\'\\n    , fn = function(string) {\\n        if(!ns) {return string}\\n        return ns + string\\n      }\\n  return fn\\n}\\n\\nvar gaWithNamespace = function(fn, namespace) {\\n  var method = setMethodWithNs(namespace)\\n  fn.call(this, method)\\n}\\n\\nvar _gaq = _gaq || []\\n  , accounts = [\\n      { id: \\'UA-7019765-1\\', namespace: \\'douban\\' }\\n    , { id: \\'UA-7019765-19\\', namespace: \\'\\' }\\n    ]\\n  , gaInit = function(account) {\\n      gaWithNamespace(function(method) {\\n        gaInitFn.call(this, method, account)\\n      }, account.namespace)\\n    }\\n  , gaInitFn = function(method, account) {\\n      _gaq.push([method(\\'_setAccount\\'), account.id]);\\n      _gaq.push([method(\\'_setSampleRate\\'), \\'5\\']);\\n\\n      \\n  _gaq.push([method(\\'_addOrganic\\'), \\'google\\', \\'q\\'])\\n  _gaq.push([method(\\'_addOrganic\\'), \\'baidu\\', \\'wd\\'])\\n  _gaq.push([method(\\'_addOrganic\\'), \\'soso\\', \\'w\\'])\\n  _gaq.push([method(\\'_addOrganic\\'), \\'youdao\\', \\'q\\'])\\n  _gaq.push([method(\\'_addOrganic\\'), \\'so.360.cn\\', \\'q\\'])\\n  _gaq.push([method(\\'_addOrganic\\'), \\'sogou\\', \\'query\\'])\\n  if (account.namespace) {\\n    _gaq.push([method(\\'_addIgnoredOrganic\\'), \\'豆瓣\\'])\\n    _gaq.push([method(\\'_addIgnoredOrganic\\'), \\'douban\\'])\\n    _gaq.push([method(\\'_addIgnoredOrganic\\'), \\'豆瓣网\\'])\\n    _gaq.push([method(\\'_addIgnoredOrganic\\'), \\'www.douban.com\\'])\\n  }\\n\\n      if (account.namespace === \\'douban\\') {\\n        _gaq.push([method(\\'_setDomainName\\'), \\'.douban.com\\'])\\n      }\\n\\n        _gaq.push([method(\\'_setCustomVar\\'), 1, \\'responsive_view_mode\\', \\'desktop\\', 3])\\n\\n        _gaq.push([method(\\'_setCustomVar\\'), 2, \\'login_status\\', \\'0\\', 2]);\\n\\n      _gaq.push([method(\\'_trackPageview\\')])\\n    }\\n\\nfor(var i = 0, l = accounts.length; i < l; i++) {\\n  var account = accounts[i]\\n  gaInit(account)\\n}\\n\\n\\n;(function() {\\n    var ga = document.createElement(\\'script\\');\\n    ga.src = (\\'https:\\' == document.location.protocol ? \\'https://ssl\\' : \\'http://www\\') + \\'.google-analytics.com/ga.js\\';\\n    ga.setAttribute(\\'async\\', \\'true\\');\\n    document.documentElement.firstChild.appendChild(ga);\\n})()\\n</script>\\n\\n\\n\\n\\n\\n\\n\\n\\n      \\n    \\n\\n    <!-- dae-web-movie--default-6f489959f7-zg6xb-->\\n\\n  <script>_SPLITTEST=\\'\\'</script>\\n</body>\\n\\n</html>\\n\\n\\n'"
      ]
     },
     "execution_count": 50,
     "metadata": {},
     "output_type": "execute_result"
    }
   ],
   "source": [
    "r.text"
   ]
  },
  {
   "cell_type": "code",
   "execution_count": null,
   "metadata": {},
   "outputs": [],
   "source": []
  }
 ],
 "metadata": {
  "kernelspec": {
   "display_name": "Python 3",
   "language": "python",
   "name": "python3"
  },
  "language_info": {
   "codemirror_mode": {
    "name": "ipython",
    "version": 3
   },
   "file_extension": ".py",
   "mimetype": "text/x-python",
   "name": "python",
   "nbconvert_exporter": "python",
   "pygments_lexer": "ipython3",
   "version": "3.7.4"
  }
 },
 "nbformat": 4,
 "nbformat_minor": 2
}
