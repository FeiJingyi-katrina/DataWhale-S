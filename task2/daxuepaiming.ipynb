{
 "cells": [
  {
   "cell_type": "code",
   "execution_count": 32,
   "metadata": {},
   "outputs": [],
   "source": [
    "import requests\n",
    "import bs4\n",
    "from bs4 import BeautifulSoup"
   ]
  },
  {
   "cell_type": "code",
   "execution_count": 37,
   "metadata": {},
   "outputs": [],
   "source": [
    "def getHTMLText(url):\n",
    "    try:\n",
    "        r = requests.get(url, timeout = 30)\n",
    "        r.raise_for_status()\n",
    "        r.encoding = r.apparent_encoding\n",
    "        return r.text\n",
    "    except:\n",
    "        return \"\""
   ]
  },
  {
   "cell_type": "code",
   "execution_count": 38,
   "metadata": {},
   "outputs": [],
   "source": [
    "def fillUnivList(ulist, html):\n",
    "    soup = BeautifulSoup(html, \"html.parser\")\n",
    "    for tr in soup.find('tbody').children:\n",
    "        if isinstance(tr, bs4.element.Tag): #检测tr标签类型\n",
    "            tds = tr('td')\n",
    "            ulist.append([tds[0].string, tds[1].string, tds[2].string])"
   ]
  },
  {
   "cell_type": "code",
   "execution_count": 44,
   "metadata": {},
   "outputs": [],
   "source": [
    "def printUnivList(ulist, num):\n",
    "    tplt = \"{0:^10}\\t{1:{3}^10}\\t{2:^10}\"\n",
    "    print(tplt.format(\"排名\", \"学校名称\", \"总分\",chr(12288)))\n",
    "    for i in range(num):\n",
    "        u = ulist[i]\n",
    "        print(tplt.format(u[0], u[1], u[2],chr(12288)))"
   ]
  },
  {
   "cell_type": "code",
   "execution_count": 45,
   "metadata": {},
   "outputs": [
    {
     "name": "stdout",
     "output_type": "stream",
     "text": [
      "    排名    \t　　　学校名称　　　\t    总分    \n",
      "    1     \t　　　清华大学　　　\t    北京    \n",
      "    2     \t　　　北京大学　　　\t    北京    \n",
      "    3     \t　　　浙江大学　　　\t    浙江    \n",
      "    4     \t　　上海交通大学　　\t    上海    \n",
      "    5     \t　　　复旦大学　　　\t    上海    \n",
      "    6     \t　中国科学技术大学　\t    安徽    \n",
      "    7     \t　　华中科技大学　　\t    湖北    \n",
      "    7     \t　　　南京大学　　　\t    江苏    \n",
      "    9     \t　　　中山大学　　　\t    广东    \n",
      "    10    \t　哈尔滨工业大学　　\t   黑龙江    \n",
      "    11    \t　北京航空航天大学　\t    北京    \n",
      "    12    \t　　　武汉大学　　　\t    湖北    \n",
      "    13    \t　　　同济大学　　　\t    上海    \n",
      "    14    \t　　西安交通大学　　\t    陕西    \n",
      "    15    \t　　　四川大学　　　\t    四川    \n",
      "    16    \t　　北京理工大学　　\t    北京    \n",
      "    17    \t　　　东南大学　　　\t    江苏    \n",
      "    18    \t　　　南开大学　　　\t    天津    \n",
      "    19    \t　　　天津大学　　　\t    天津    \n",
      "    20    \t　　华南理工大学　　\t    广东    \n"
     ]
    }
   ],
   "source": [
    "def main():\n",
    "    uinfo = []\n",
    "    url = \"http://zuihaodaxue.cn/zuihaodaxuepaiming2019.html\"\n",
    "    html = getHTMLText(url)\n",
    "    fillUnivList(uinfo, html)\n",
    "    printUnivList(uinfo, 20)\n",
    "main()"
   ]
  },
  {
   "cell_type": "code",
   "execution_count": null,
   "metadata": {},
   "outputs": [],
   "source": []
  }
 ],
 "metadata": {
  "kernelspec": {
   "display_name": "Python 3",
   "language": "python",
   "name": "python3"
  },
  "language_info": {
   "codemirror_mode": {
    "name": "ipython",
    "version": 3
   },
   "file_extension": ".py",
   "mimetype": "text/x-python",
   "name": "python",
   "nbconvert_exporter": "python",
   "pygments_lexer": "ipython3",
   "version": "3.7.4"
  }
 },
 "nbformat": 4,
 "nbformat_minor": 2
}
