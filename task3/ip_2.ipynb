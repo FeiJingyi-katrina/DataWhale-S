{
 "cells": [
  {
   "cell_type": "code",
   "execution_count": 6,
   "metadata": {},
   "outputs": [],
   "source": [
    "import requests\n",
    "import time\n",
    "from bs4 import BeautifulSoup"
   ]
  },
  {
   "cell_type": "code",
   "execution_count": 7,
   "metadata": {},
   "outputs": [],
   "source": [
    "def openProxyUrl(url):\n",
    "    kv = {'user-agent' : 'Mozilla/5.0'}\n",
    "    try:\n",
    "        r = requests.get(url, headers = kv, timeout = 30)\n",
    "        r.raise_for_status()\n",
    "        # print(r.status_code)\n",
    "        r.encoding = r.apparent_encoding\n",
    "        return r.text\n",
    "    except:\n",
    "        print(\"\")"
   ]
  },
  {
   "cell_type": "code",
   "execution_count": 8,
   "metadata": {},
   "outputs": [],
   "source": [
    "def getProxyIP(response):\n",
    "    proxyIPList = []\n",
    "    soup = BeautifulSoup(response, 'html.parser')\n",
    "    proxyIPs = soup.find(id = 'ip_list').find_all('tr')\n",
    "    for proxyIP in proxyIPs:\n",
    "        if len(proxyIP.select('td')) >= 8:\n",
    "            ip = proxyIP.select('td')[1].text\n",
    "            port = proxyIP.select('td')[2].text # 端口\n",
    "            protcool = proxyIP.select('td')[5].text # 类型\n",
    "            if protcool in ('HTTP', 'HTTPS'):\n",
    "                proxyIPList.append(f'{protcool}://{ip}:{port}')\n",
    "    return proxyIPList"
   ]
  },
  {
   "cell_type": "code",
   "execution_count": 9,
   "metadata": {},
   "outputs": [
    {
     "name": "stdout",
     "output_type": "stream",
     "text": [
      "['HTTP://124.156.98.172:80', 'HTTPS://117.88.176.221:3000', 'HTTP://122.51.183.224:808', 'HTTPS://119.254.94.93:46323', 'HTTPS://49.76.237.243:8123', 'HTTP://59.44.78.30:42335', 'HTTP://27.208.231.100:8060', 'HTTP://113.77.101.202:8118', 'HTTP://124.239.216.14:8060', 'HTTP://101.132.123.99:8080', 'HTTPS://60.31.213.115:808', 'HTTP://115.219.168.69:8118', 'HTTP://117.94.213.119:8118', 'HTTPS://58.254.220.116:52470', 'HTTP://112.14.47.6:52024', 'HTTPS://117.186.49.50:55443', 'HTTP://60.2.44.182:30963', 'HTTP://61.54.225.130:8060', 'HTTPS://117.88.176.162:3000', 'HTTP://117.88.177.143:3000', 'HTTP://14.20.235.73:808', 'HTTP://122.225.45.66:43391', 'HTTPS://59.36.10.74:3128', 'HTTP://223.71.203.190:55443', 'HTTP://218.75.158.153:3128', 'HTTP://223.82.106.253:3128', 'HTTP://163.125.71.195:8888', 'HTTPS://117.141.155.241:53281', 'HTTPS://60.211.218.78:53281', 'HTTP://183.3.218.34:8080', 'HTTPS://221.229.252.98:8080', 'HTTPS://121.199.76.16:8091', 'HTTPS://1.196.161.144:9999', 'HTTPS://60.5.254.169:8081', 'HTTP://49.85.211.213:8118', 'HTTP://163.125.64.188:9797', 'HTTP://211.101.154.105:43598', 'HTTPS://60.191.11.229:3128', 'HTTP://113.59.99.138:8910', 'HTTPS://122.224.65.201:3128', 'HTTPS://117.88.176.221:3000', 'HTTPS://59.36.10.74:3128', 'HTTPS://119.254.94.93:46323', 'HTTPS://49.76.237.243:8123', 'HTTPS://60.31.213.115:808', 'HTTPS://117.141.155.241:53281', 'HTTPS://60.211.218.78:53281', 'HTTPS://58.254.220.116:52470', 'HTTPS://221.229.252.98:8080', 'HTTPS://121.199.76.16:8091', 'HTTPS://117.186.49.50:55443', 'HTTPS://1.196.161.144:9999', 'HTTPS://60.5.254.169:8081', 'HTTPS://117.88.176.162:3000', 'HTTPS://139.196.193.85:8080', 'HTTPS://60.191.11.229:3128', 'HTTPS://122.224.65.201:3128', 'HTTPS://60.190.250.120:8080', 'HTTPS://218.59.193.14:47138', 'HTTPS://117.88.177.197:3000', 'HTTP://14.20.235.73:808', 'HTTP://122.225.45.66:43391', 'HTTP://122.51.183.224:808', 'HTTP://223.71.203.190:55443', 'HTTP://59.44.78.30:42335', 'HTTP://27.208.231.100:8060', 'HTTP://218.75.158.153:3128', 'HTTP://113.77.101.202:8118', 'HTTP://223.82.106.253:3128', 'HTTP://124.239.216.14:8060', 'HTTP://101.132.123.99:8080', 'HTTP://163.125.71.195:8888', 'HTTP://115.219.168.69:8118', 'HTTP://117.94.213.119:8118', 'HTTP://183.3.218.34:8080', 'HTTP://112.14.47.6:52024', 'HTTP://60.2.44.182:30963', 'HTTP://49.85.211.213:8118', 'HTTP://61.54.225.130:8060', 'HTTP://117.88.177.143:3000']\n"
     ]
    }
   ],
   "source": [
    "if __name__ == '__main__':\n",
    "    url = \"https://www.xicidaili.com/\"\n",
    "    text = openProxyUrl(url)\n",
    "    ipName = 'ip2.txt'\n",
    "    with open(ipName, 'w') as f:\n",
    "        f.write(text)\n",
    "    text = open(ipName, 'r').read()\n",
    "    proxyIPList = getProxyIP(text)\n",
    "    print(proxyIPList)"
   ]
  },
  {
   "cell_type": "code",
   "execution_count": null,
   "metadata": {},
   "outputs": [],
   "source": []
  }
 ],
 "metadata": {
  "kernelspec": {
   "display_name": "Python 3",
   "language": "python",
   "name": "python3"
  },
  "language_info": {
   "codemirror_mode": {
    "name": "ipython",
    "version": 3
   },
   "file_extension": ".py",
   "mimetype": "text/x-python",
   "name": "python",
   "nbconvert_exporter": "python",
   "pygments_lexer": "ipython3",
   "version": "3.7.4"
  }
 },
 "nbformat": 4,
 "nbformat_minor": 2
}
